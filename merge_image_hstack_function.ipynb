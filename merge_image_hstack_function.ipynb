{
 "cells": [
  {
   "cell_type": "code",
   "execution_count": 1,
   "id": "bd1bdb42",
   "metadata": {},
   "outputs": [],
   "source": [
    "import sys"
   ]
  },
  {
   "cell_type": "code",
   "execution_count": 10,
   "id": "5b06d732",
   "metadata": {},
   "outputs": [],
   "source": [
    "from PIL import Image\n",
    "import numpy as np\n",
    "from numpy import asarray\n"
   ]
  },
  {
   "cell_type": "code",
   "execution_count": 3,
   "id": "47cda46e",
   "metadata": {},
   "outputs": [],
   "source": [
    "img1 = Image.open('sir.jpg')"
   ]
  },
  {
   "cell_type": "code",
   "execution_count": 4,
   "id": "6580a668",
   "metadata": {},
   "outputs": [],
   "source": [
    "img2 = Image.open('me.jpg')"
   ]
  },
  {
   "cell_type": "code",
   "execution_count": 5,
   "id": "432263c2",
   "metadata": {},
   "outputs": [],
   "source": [
    "numpyimg1 = asarray(img1)"
   ]
  },
  {
   "cell_type": "code",
   "execution_count": 6,
   "id": "1b6da1f1",
   "metadata": {},
   "outputs": [],
   "source": [
    "numpyimg2 = asarray(img2)"
   ]
  },
  {
   "cell_type": "code",
   "execution_count": 7,
   "id": "670328ea",
   "metadata": {},
   "outputs": [
    {
     "name": "stdout",
     "output_type": "stream",
     "text": [
      "<class 'numpy.ndarray'>\n"
     ]
    }
   ],
   "source": [
    "print(type(numpyimg1))"
   ]
  },
  {
   "cell_type": "code",
   "execution_count": 8,
   "id": "5fe25c39",
   "metadata": {},
   "outputs": [
    {
     "name": "stdout",
     "output_type": "stream",
     "text": [
      "(800, 629, 3)\n"
     ]
    }
   ],
   "source": [
    "print(numpyimg1.shape)"
   ]
  },
  {
   "cell_type": "code",
   "execution_count": 13,
   "id": "72ada349",
   "metadata": {},
   "outputs": [],
   "source": [
    "new_img=np.hstack((numpyimg1,numpyimg2))"
   ]
  },
  {
   "cell_type": "code",
   "execution_count": 16,
   "id": "7f0a93db",
   "metadata": {},
   "outputs": [
    {
     "name": "stdout",
     "output_type": "stream",
     "text": [
      "<class 'numpy.ndarray'>\n"
     ]
    }
   ],
   "source": [
    "print(type(new_img))"
   ]
  },
  {
   "cell_type": "code",
   "execution_count": 19,
   "id": "4e3ac663",
   "metadata": {},
   "outputs": [
    {
     "data": {
      "text/plain": [
       "503200"
      ]
     },
     "execution_count": 19,
     "metadata": {},
     "output_type": "execute_result"
    }
   ],
   "source": [
    "800*629"
   ]
  },
  {
   "cell_type": "code",
   "execution_count": 24,
   "id": "c6dcb71b",
   "metadata": {},
   "outputs": [
    {
     "name": "stdout",
     "output_type": "stream",
     "text": [
      "(800, 1325, 3)\n"
     ]
    }
   ],
   "source": [
    "print(new_img.shape)"
   ]
  },
  {
   "cell_type": "code",
   "execution_count": 26,
   "id": "41de6c63",
   "metadata": {},
   "outputs": [],
   "source": [
    "data = Image.fromarray(new_img)"
   ]
  },
  {
   "cell_type": "code",
   "execution_count": 27,
   "id": "6efb3de4",
   "metadata": {},
   "outputs": [],
   "source": [
    "data.save('file.jpg')"
   ]
  },
  {
   "cell_type": "code",
   "execution_count": null,
   "id": "5fbbb9a6",
   "metadata": {},
   "outputs": [],
   "source": []
  },
  {
   "cell_type": "code",
   "execution_count": null,
   "id": "93c6955a",
   "metadata": {},
   "outputs": [],
   "source": []
  }
 ],
 "metadata": {
  "kernelspec": {
   "display_name": "Python 3 (ipykernel)",
   "language": "python",
   "name": "python3"
  },
  "language_info": {
   "codemirror_mode": {
    "name": "ipython",
    "version": 3
   },
   "file_extension": ".py",
   "mimetype": "text/x-python",
   "name": "python",
   "nbconvert_exporter": "python",
   "pygments_lexer": "ipython3",
   "version": "3.9.12"
  }
 },
 "nbformat": 4,
 "nbformat_minor": 5
}
