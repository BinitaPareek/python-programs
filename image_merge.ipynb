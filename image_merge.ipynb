{
 "cells": [
  {
   "cell_type": "code",
   "execution_count": 1,
   "id": "4a3b817d",
   "metadata": {},
   "outputs": [
    {
     "ename": "ImportError",
     "evalue": "cannot import name 'images' from 'PIL' (C:\\Users\\Binita\\anaconda3\\lib\\site-packages\\PIL\\__init__.py)",
     "output_type": "error",
     "traceback": [
      "\u001b[1;31m---------------------------------------------------------------------------\u001b[0m",
      "\u001b[1;31mImportError\u001b[0m                               Traceback (most recent call last)",
      "Input \u001b[1;32mIn [1]\u001b[0m, in \u001b[0;36m<cell line: 1>\u001b[1;34m()\u001b[0m\n\u001b[1;32m----> 1\u001b[0m \u001b[38;5;28;01mfrom\u001b[39;00m \u001b[38;5;21;01mPIL\u001b[39;00m \u001b[38;5;28;01mimport\u001b[39;00m images\n",
      "\u001b[1;31mImportError\u001b[0m: cannot import name 'images' from 'PIL' (C:\\Users\\Binita\\anaconda3\\lib\\site-packages\\PIL\\__init__.py)"
     ]
    }
   ],
   "source": []
  },
  {
   "cell_type": "code",
   "execution_count": 2,
   "id": "d49b92ea",
   "metadata": {},
   "outputs": [],
   "source": [
    "import sys"
   ]
  },
  {
   "cell_type": "code",
   "execution_count": 3,
   "id": "694e94d5",
   "metadata": {},
   "outputs": [],
   "source": [
    "from PIL import Image"
   ]
  },
  {
   "cell_type": "code",
   "execution_count": 4,
   "id": "c313fad0",
   "metadata": {},
   "outputs": [],
   "source": [
    "img1=Image.open('sir.jpg')"
   ]
  },
  {
   "cell_type": "code",
   "execution_count": 5,
   "id": "8e199f26",
   "metadata": {},
   "outputs": [],
   "source": [
    "img2=Image.open('me.jpg')"
   ]
  },
  {
   "cell_type": "code",
   "execution_count": 6,
   "id": "f12d9e68",
   "metadata": {},
   "outputs": [],
   "source": [
    "merge=Image.new('RGB',(img1.width+img2.width, img1.height))"
   ]
  },
  {
   "cell_type": "code",
   "execution_count": 7,
   "id": "c7c1b36c",
   "metadata": {},
   "outputs": [],
   "source": [
    "merge.paste(img1, (0,0))"
   ]
  },
  {
   "cell_type": "code",
   "execution_count": 8,
   "id": "0867f949",
   "metadata": {},
   "outputs": [],
   "source": [
    "merge.paste(img2, (img1.width,0))"
   ]
  },
  {
   "cell_type": "code",
   "execution_count": 9,
   "id": "5e62d536",
   "metadata": {},
   "outputs": [],
   "source": [
    "merge.save('new.jpg')"
   ]
  },
  {
   "cell_type": "code",
   "execution_count": null,
   "id": "e6fc059b",
   "metadata": {},
   "outputs": [],
   "source": []
  }
 ],
 "metadata": {
  "kernelspec": {
   "display_name": "Python 3 (ipykernel)",
   "language": "python",
   "name": "python3"
  },
  "language_info": {
   "codemirror_mode": {
    "name": "ipython",
    "version": 3
   },
   "file_extension": ".py",
   "mimetype": "text/x-python",
   "name": "python",
   "nbconvert_exporter": "python",
   "pygments_lexer": "ipython3",
   "version": "3.9.12"
  }
 },
 "nbformat": 4,
 "nbformat_minor": 5
}
